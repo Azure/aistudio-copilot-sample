{
 "cells": [
  {
   "cell_type": "code",
   "execution_count": null,
   "metadata": {},
   "outputs": [],
   "source": [
    "from azure.ai.resources.client import AIClient\n",
    "from azure.ai.resources.entities import AzureOpenAIModelConfiguration\n",
    "from azure.identity import DefaultAzureCredential\n",
    "\n",
    "from azure.ai.generative.synthetic.simulator import (\n",
    "    Simulator,\n",
    "    SimulatorTemplates\n",
    ")"
   ]
  },
  {
   "cell_type": "markdown",
   "metadata": {},
   "source": [
    "# Define system connection and user connection for large language models (LLM)"
   ]
  },
  {
   "cell_type": "markdown",
   "metadata": {},
   "source": [
    "The Azure AI Simulator can simulate interactions between your large language model (i.e. \"agent bot\") and a system large language model (i.e. \"human bot\"). First we start by defining the connection to these two large language models to simulate an interaction. In this example we are simulating a conversation. For the human bot simulating the conversation with your agent bot, we recommend using Azure OpenAI GPT-4 model for the best outcomes. Learn more about [Azure Open AI REST APIs.](https://learn.microsoft.com/en-us/azure/ai-services/openai/reference#rest-api-versioning)"
   ]
  },
  {
   "cell_type": "code",
   "execution_count": null,
   "metadata": {},
   "outputs": [],
   "source": [
    "# We first retrieve ai client which let us obtain a connection to an azure openai resource\n",
    "\n",
    "try:\n",
    "    credential = DefaultAzureCredential()\n",
    "    # Check if given credential can get token successfully.\n",
    "    credential.get_token(\"https://management.azure.com/.default\")\n",
    "except:\n",
    "    print(\"Credential not working\")\n",
    "    pass\n",
    "\n",
    "# config.json for your ai project workspace is expected in the same folder as the notebook. An example:\n",
    "# {\n",
    "#    \"subscription_id\": \"<subscription id>\",\n",
    "#    \"resource_group\": \"<resource group name>\",\n",
    "#    \"workspace_name\": \"<ai project workspace name>\"\n",
    "#}\n",
    "\n",
    "ai_client = AIClient.from_config(credential)\n",
    "\n",
    "# For simplicity, we define both the system bot and agent bot using the same LLM model.\n",
    "system_bot_model = AzureOpenAIModelConfiguration.from_connection(\n",
    "    connection=ai_client.get_default_aoai_connection(),\n",
    "    model_name=\"gpt-35-turbo\",\n",
    "    deployment_name=\"gpt-35-turbo\",\n",
    "    max_tokens=500,\n",
    "    temperature=0.0\n",
    ")\n",
    "\n",
    "agent_bot_model = AzureOpenAIModelConfiguration.from_connection(\n",
    "    connection=ai_client.get_default_aoai_connection(),\n",
    "    model_name=\"gpt-35-turbo\",\n",
    "    deployment_name=\"gpt-35-turbo\",\n",
    "    max_tokens=500,\n",
    "    temperature=0.0\n",
    ")"
   ]
  },
  {
   "cell_type": "markdown",
   "metadata": {},
   "source": [
    "# Review template and define parameters"
   ]
  },
  {
   "cell_type": "markdown",
   "metadata": {},
   "source": [
    "The human bot can be customized via parameters in a template. Parameters such as profile and tone (all required parameters) will be used to simulate the conversation with your agent bot. Provide a task to the human bot that will guide it in simulating the proper responses to your agent bot. The number of tasks will define the number of complete conversations that the simulator will simulate. The metadata (optional parameter which can either be a dictionary of key value pairs or a string text) will provide context to your agent bot on the human bot to answer appropriately."
   ]
  },
  {
   "cell_type": "code",
   "execution_count": null,
   "metadata": {},
   "outputs": [],
   "source": [
    "st = SimulatorTemplates()\n",
    "\n",
    "# retrieve conservation template\n",
    "\n",
    "conv_template = st.get_template(\"conversation\")\n",
    "\n",
    "# retrieve parameters in the template\n",
    "conv_parameters = st.get_template_parameters(\"conversation\")\n",
    "\n",
    "# show the parameters in a template\n",
    "print(conv_parameters)"
   ]
  },
  {
   "cell_type": "code",
   "execution_count": null,
   "metadata": {},
   "outputs": [],
   "source": [
    "# initialize the conversation template parameters\n",
    "conv_parameters = {\n",
    "    \"name\": \"Jane\",\n",
    "    \"profile\": \"Jane Doe is a 28-year-old outdoor enthusiast who lives in Seattle, Washington. She has a passion for exploring nature and loves going on camping and hiking trips with her friends. She has recently become a member of the company's loyalty program and has achieved Bronze level status.\"\n",
    "\"Jane has a busy schedule, but she always makes time for her outdoor adventures. She is constantly looking for high-quality gear that can help her make the most of her trips and ensure she has a comfortable experience in the outdoors.\"\n",
    "\"Recently, Jane purchased a TrailMaster X4 Tent from the company. This tent is perfect for her needs, as it is both durable and spacious, allowing her to enjoy her camping trips with ease. The price of the tent was $250, and it has already proved to be a great investment.\"\n",
    "\"In addition to the tent, Jane also bought a Pathfinder Pro-1 Adventure Compass for $39.99. This compass has helped her navigate challenging trails with confidence, ensuring that she never loses her way during her adventures.\"\n",
    "\"Finally, Jane decided to upgrade her sleeping gear by purchasing a CozyNights Sleeping Bag for $100. This sleeping bag has made her camping nights even more enjoyable, as it provides her with the warmth and comfort she needs after a long day of hiking.\",\n",
    "    \"tone\": \"happy\",\n",
    "    \"metadata\": dict(\n",
    "        customer_info=\"## customer_info      name: Jane Doe    age: 28     phone_number: 555-987-6543     email: jane.doe@example.com     address: 789 Broadway St, Seattle, WA 98101      loyalty_program: True     loyalty_program Level: Bronze        ## recent_purchases      order_number: 5  date: 2023-05-01  item: - description:  TrailMaster X4 Tent, quantity 1, price $250    item_number: 1   order_number: 18  date: 2023-05-04  item: - description:  Pathfinder Pro-1 Adventure Compass, quantity 1, price $39.99    item_number: 4   order_number: 28  date: 2023-04-15  item: - description:  CozyNights Sleeping Bag, quantity 1, price $100    item_number: 7\"\n",
    "    ),\n",
    "    \"task\": \"Jane is trying to accomplish the task of finding out the best hiking backpacks suitable for her weekend camping trips, and how they compare with other options available in the market. She wants to make an informed decision before making a purchase from the outdoor gear company's website or visiting their physical store.\"\\\n",
    "        \"Jane uses Google to search for 'best hiking backpacks for weekend trips,' hoping to find reliable and updated information from official sources or trusted websites. She expects to see a list of top-rated backpacks, their features, capacity, comfort, durability, and prices. She is also interested in customer reviews to understand the pros and cons of each backpack.\"\\\n",
    "        \"Furthermore, Jane wants to see the specifications, materials used, waterproof capabilities, and available colors for each backpack. She also wants to compare the chosen backpacks with other popular brands like Osprey, Deuter, or Gregory. Jane plans to spend about 20 minutes on this task and shortlist two or three options that suit her requirements and budget.\"\\\n",
    "        \"Finally, as a Bronze level member of the outdoor gear company's loyalty program, Jane might also want to contact customer service to inquire about any special deals or discounts available on her shortlisted backpacks, ensuring she gets the best value for her purchase.\",\n",
    "    \"chatbot_name\": \"ChatBot\"\n",
    "}"
   ]
  },
  {
   "cell_type": "markdown",
   "metadata": {},
   "source": [
    "# Initialize the simulator with system and agent bot"
   ]
  },
  {
   "cell_type": "code",
   "execution_count": null,
   "metadata": {},
   "outputs": [],
   "source": [
    "simulator = Simulator(\n",
    "    systemConnection = system_bot_model,\n",
    "    userConnection = agent_bot_model\n",
    ")"
   ]
  },
  {
   "cell_type": "markdown",
   "metadata": {},
   "source": [
    "# Using asynchronous API to generate a conversation"
   ]
  },
  {
   "cell_type": "code",
   "execution_count": null,
   "metadata": {},
   "outputs": [],
   "source": [
    "conv = await simulator.simulate_async(\n",
    "    conv_template,\n",
    "    conv_parameters,\n",
    "    max_conversation_turns=3,\n",
    "    api_call_delay_sec=50,\n",
    "    api_call_retry_sleep_sec=50,\n",
    "    api_call_retry_max_count=3)\n",
    "\n",
    "print(conv)"
   ]
  },
  {
   "cell_type": "markdown",
   "metadata": {},
   "source": [
    "# Using synchronous API to generate a conversation"
   ]
  },
  {
   "cell_type": "code",
   "execution_count": null,
   "metadata": {},
   "outputs": [],
   "source": [
    "conv = simulator.simulate(\n",
    "    conv_template,\n",
    "    conv_parameters,\n",
    "    max_conversation_turns=6,\n",
    "    api_call_delay_sec=10,\n",
    "    api_call_retry_sleep_sec=10,\n",
    "    api_call_retry_max_count=3)\n",
    "\n",
    "print(conv)"
   ]
  },
  {
   "cell_type": "markdown",
   "metadata": {},
   "source": [
    "# Initialize simulator with callback\n",
    "\n",
    "A callback function can be defined which is called when it is the agent bot's turn to generate a response. Conversation history and metadata are included as parameters."
   ]
  },
  {
   "cell_type": "code",
   "execution_count": null,
   "metadata": {},
   "outputs": [],
   "source": [
    "async def sim_callback(question, conversation_history, meta_data):\n",
    "    from promptflow import PFClient\n",
    "    pf_client = PFClient()\n",
    "\n",
    "    inputs = {\"question\": question}\n",
    "    return pf_client.test(flow=\"./my_chatbot\", inputs=inputs)[\"answer\"]"
   ]
  },
  {
   "cell_type": "code",
   "execution_count": null,
   "metadata": {},
   "outputs": [],
   "source": [
    "simulator = Simulator(\n",
    "    simulate_callback = sim_callback,\n",
    "    systemConnection = system_bot_model\n",
    ")"
   ]
  }
 ],
 "metadata": {
  "kernelspec": {
   "display_name": "Python 3.9.18 ('simulator')",
   "language": "python",
   "name": "python3"
  },
  "language_info": {
   "codemirror_mode": {
    "name": "ipython",
    "version": 3
   },
   "file_extension": ".py",
   "mimetype": "text/x-python",
   "name": "python",
   "nbconvert_exporter": "python",
   "pygments_lexer": "ipython3",
   "version": "3.9.18"
  },
  "orig_nbformat": 4,
  "vscode": {
   "interpreter": {
    "hash": "7c1ec5d9efc34516c1b49d6429fd2f63ed729056e5d8b6dccd5a1716143e1140"
   }
  }
 },
 "nbformat": 4,
 "nbformat_minor": 2
}
