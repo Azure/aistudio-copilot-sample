{
 "cells": [
  {
   "cell_type": "markdown",
   "metadata": {},
   "source": [
    "### Connect to your project"
   ]
  },
  {
   "cell_type": "markdown",
   "metadata": {},
   "source": [
    "NOTE: When running the first cell you will be prompted to pick your Python environment, for the pre-built container choose:\n",
    " * **Python Environment** on the first dropdown\n",
    " * **Python 3.10.x** on the second dropdown"
   ]
  },
  {
   "cell_type": "code",
   "execution_count": null,
   "metadata": {},
   "outputs": [],
   "source": [
    "!az login --use-device-code"
   ]
  },
  {
   "cell_type": "code",
   "execution_count": 1,
   "metadata": {},
   "outputs": [
    {
     "name": "stderr",
     "output_type": "stream",
     "text": [
      "Class AIClient: This is an experimental class, and may change at any time. Please see https://aka.ms/azuremlexperimental for more information.\n"
     ]
    }
   ],
   "source": [
    "from azure.ai.generative import AIClient\n",
    "from azure.identity import DefaultAzureCredential\n",
    "\n",
    "# connects to project defined in the config.json file at the root of the repo\n",
    "# use \"ai init\" to update this to point at your project\n",
    "client = AIClient.from_config(DefaultAzureCredential())"
   ]
  },
  {
   "cell_type": "markdown",
   "metadata": {},
   "source": [
    "### Retrieve Azure OpenAI and Cognitive Services Connections and Set in Environment   "
   ]
  },
  {
   "cell_type": "code",
   "execution_count": 2,
   "metadata": {},
   "outputs": [
    {
     "name": "stderr",
     "output_type": "stream",
     "text": [
      "Class WorkspaceConnection: This is an experimental class, and may change at any time. Please see https://aka.ms/azuremlexperimental for more information.\n"
     ]
    }
   ],
   "source": [
    "# Log into the Azure CLI (run az login --use-device code) before running this step!\n",
    "default_aoai_connection = client.get_default_aoai_connection()\n",
    "default_aoai_connection.set_current_environment()\n",
    "\n",
    "# change this if you use different connection name\n",
    "default_acs_connection = client.connections.get(\"Default_CognitiveSearch\")\n",
    "default_acs_connection.set_current_environment()\n",
    "\n",
    "# change these if you use different deployment names\n",
    "# if you do that, also update the deployment name in qna_simple/langchain_model.py \n",
    "chat_model_deployment = \"gpt-35-turbo-16k-0613\"\n",
    "embedding_model_deployment = \"text-ada-embedding-002-2\"\n"
   ]
  },
  {
   "cell_type": "markdown",
   "metadata": {},
   "source": [
    "### Build MLIndex Locally"
   ]
  },
  {
   "cell_type": "code",
   "execution_count": null,
   "metadata": {},
   "outputs": [],
   "source": [
    "from azure.ai.generative.operations._index_data_source import LocalSource, ACSOutputConfig\n",
    "from azure.ai.generative.functions.build_mlindex import build_mlindex\n",
    "\n",
    "# build the index using the product catalog docs from data/3-product-info\n",
    "index = build_mlindex(\n",
    "    output_index_name=\"product-info-cog-search-index\",\n",
    "    vector_store=\"azure_cognitive_search\",\n",
    "    embeddings_model = f\"azure_open_ai://deployment/{embedding_model_deployment}/model/text-embedding-ada-002\",\n",
    "    data_source_url=\"https://product_info.com\",\n",
    "    index_input_config=LocalSource(input_data=\"../../data/3-product-info\"),\n",
    "    acs_config=ACSOutputConfig(\n",
    "        acs_index_name=\"product-info-index-test1\",\n",
    "    ),\n",
    ")\n",
    "\n",
    "# register the index so that it shows up in the project\n",
    "client.mlindexes.create_or_update(index)\n"
   ]
  },
  {
   "cell_type": "markdown",
   "metadata": {},
   "source": [
    "### Implement co-pilot logic using Semantic Kernel and the MLIndex"
   ]
  },
  {
   "cell_type": "code",
   "execution_count": 3,
   "metadata": {},
   "outputs": [],
   "source": [
    "# Hack to create temporary memory for Semantic Kernel\n",
    "# Need to replace with ACS once embedding field is configurable\n",
    "import os\n",
    "import semantic_kernel as sk\n",
    "from semantic_kernel.connectors.ai.open_ai import AzureTextEmbedding\n",
    "\n",
    "# Create memory store for memories\n",
    "# TODO: Replace with ACS memory store https://devblogs.microsoft.com/semantic-kernel/announcing-semantic-kernel-integration-with-azure-cognitive-search/\n",
    "memory_store = sk.memory.VolatileMemoryStore()\n",
    "\n",
    "# Initialize kernel\n",
    "kernel = sk.Kernel()\n",
    "kernel.add_text_embedding_generation_service(\"ada\", \n",
    "    AzureTextEmbedding(\n",
    "        embedding_model_deployment,\n",
    "        os.getenv(\"OPENAI_API_BASE\"),\n",
    "        os.getenv(\"OPENAI_API_KEY\"),\n",
    "        )\n",
    "    )\n",
    "kernel.register_memory_store(memory_store=memory_store)\n",
    "\n",
    "# Specify the folder path here\n",
    "folder_path = '../../data/3-product-info'\n",
    "\n",
    "# Loop over all files in the specified folder\n",
    "for filename in os.listdir(folder_path):\n",
    "    # Construct the full file path\n",
    "    file_path = os.path.join(folder_path, filename)\n",
    "    \n",
    "    # Open the text file and read its content\n",
    "    with open(file_path, 'r') as file:\n",
    "        content = file.read()\n",
    "\n",
    "        # Save the file to memory\n",
    "        await kernel.memory.save_information_async(\"product-info-index-test1\", id=file_path, text=content)"
   ]
  },
  {
   "cell_type": "code",
   "execution_count": 4,
   "metadata": {},
   "outputs": [],
   "source": [
    "# create a QnA function that retrieves data and uses it as context to the LLM\n",
    "def qna(question, temperature=0.0, number_of_docs=3, prompt_template=None):\n",
    "    import semantic_kernel as sk\n",
    "    from semantic_kernel.connectors.ai.open_ai import AzureChatCompletion\n",
    "    from semantic_kernel.planning import StepwisePlanner\n",
    "    from semantic_kernel.planning.stepwise_planner.stepwise_planner_config import StepwisePlannerConfig\n",
    "    from plugins.customer_support_plugin.customer_support import CustomerSupport\n",
    "\n",
    "    import os\n",
    "    import asyncio\n",
    "    import nest_asyncio\n",
    "\n",
    "    nest_asyncio.apply()\n",
    "\n",
    "    # Initialize the kernel\n",
    "    kernel = sk.Kernel()\n",
    "    kernel.add_chat_service(\n",
    "        \"chat_completion\",\n",
    "        AzureChatCompletion(\n",
    "            chat_model_deployment,\n",
    "            os.getenv(\"OPENAI_API_BASE\"),\n",
    "            os.getenv(\"OPENAI_API_KEY\"),\n",
    "        )\n",
    "    )\n",
    "    \n",
    "    kernel.import_skill(CustomerSupport(\n",
    "        memory_store = memory_store,\n",
    "        number_of_docs = number_of_docs,\n",
    "        embedding_model_deployment = embedding_model_deployment\n",
    "    ), skill_name=\"CustomerSupport\")\n",
    "\n",
    "    planner = StepwisePlanner(kernel, config=StepwisePlannerConfig(max_iterations=20))\n",
    "    plan = planner.create_plan(question)\n",
    "\n",
    "    result = asyncio.run(kernel.run_async(plan))\n",
    "    \n",
    "    #print(result.variables[\"agent_scratch_pad\"])\n",
    "    \n",
    "    print(result.variables[\"skill_count\"])\n",
    "    print(result.variables[\"steps_taken\"])\n",
    "\n",
    "    return {\n",
    "        \"question\": question,\n",
    "        \"answer\": result.result\n",
    "    }\n",
    "    "
   ]
  },
  {
   "cell_type": "code",
   "execution_count": 5,
   "metadata": {},
   "outputs": [
    {
     "name": "stdout",
     "output_type": "stream",
     "text": [
      "2 (CustomerSupport.GetPastOrders(1), CustomerSupport.AskAboutProducts(1))\n",
      "[\n",
      "    {\n",
      "        \"thought\": \"To find the waterproof rating for the tent, we need to check the product details. We can use the CustomerSupport.GetPastOrders function to see the details of the order and then use the CustomerSupport.AskAboutProducts function to inquire about the waterproof rating.\",\n",
      "        \"action\": \"CustomerSupport.GetPastOrders\",\n",
      "        \"action_variables\": {},\n",
      "        \"observation\": \"\\n        order_number: 1 \\n        date: 2023-01-05 \\n        item:\\n        - description:  TrailMaster X4 Tent, quantity 2, price $500 \\n          item_number: 1 \\n\\n        order_number: 19 \\n        date: 2023-01-25 \\n        item:\\n        - description:  BaseCamp Folding Table, quantity 1, price $60 \\n          item_number: 5 \\n\\n        order_number: 29 \\n        date: 2023-02-10 \\n        item:\\n        - description:  Alpine Explorer Tent, quantity 2, price $700 \\n          item_number: 8 \\n\\n        order_number: 41 \\n        date: 2023-03-01 \\n        item:\\n        - description:  TrekMaster Camping Chair, quantity 1, price $50 \\n          item_number: 12 \\n\\n        order_number: 50 \\n        date: 2023-03-16 \\n        item:\\n        - description:  SkyView 2-Person Tent, quantity 2, price $400 \\n          item_number: 15 \\n\\n        order_number: 59 \\n        date: 2023-04-01 \\n        item:\\n        - description:  TrekStar Hiking Sandals, quantity 1, price $70 \\n          item_number: 18 \\n        \",\n",
      "        \"final_answer\": null,\n",
      "        \"original_response\": \"[THOUGHT]\\nTo find the waterproof rating for the tent, we need to check the product details. We can use the CustomerSupport.GetPastOrders function to see the details of the order and then use the CustomerSupport.AskAboutProducts function to inquire about the waterproof rating.\\n\\n[ACTION]\\n{\\n  \\\"action\\\": \\\"CustomerSupport.GetPastOrders\\\",\\n  \\\"action_variables\\\": {}\\n}\"\n",
      "    },\n",
      "    {\n",
      "        \"thought\": \"We have retrieved the past orders, but we need to find the specific order for the tent. Let's check the descriptions of the items in each order to find the TrailMaster X4 Tent.\",\n",
      "        \"action\": \"CustomerSupport.AskAboutProducts\",\n",
      "        \"action_variables\": {\n",
      "            \"input\": \"What is the waterproof rating for the TrailMaster X4 Tent?\"\n",
      "        },\n",
      "        \"observation\": \"# Information about product item_number: 1\\nTrailMaster X4 Tent, price $250,\\n\\n## Brand\\nOutdoorLiving\\n\\n## Category\\nTents\\n\\n## Features\\n- Polyester material for durability\\n- Spacious interior to accommodate multiple people\\n- Easy setup with included instructions\\n- Water-resistant construction to withstand light rain\\n- Mesh panels for ventilation and insect protection\\n- Rainfly included for added weather protection\\n- Multiple doors for convenient entry and exit\\n- Interior pockets for organizing small items\\n- Reflective guy lines for improved visibility at night\\n- Freestanding design for easy setup and relocation\\n- Carry bag included for convenient storage and transportation\\n\\n## Technical Specs\\n**Best Use**: Camping  \\n**Capacity**: 4-person  \\n**Season Rating**: 3-season  \\n**Setup**: Freestanding  \\n**Material**: Polyester  \\n**Waterproof**: Yes  \\n**Floor Area**: 80 square feet  \\n**Peak Height**: 6 feet  \\n**Number of Doors**: 2  \\n**Color**: Green  \\n**Rainfly**: Included  \\n**Rainfly Waterproof Rating**: 2000mm  \\n**Tent Poles**: Aluminum  \\n**Pole Diameter**: 9mm  \\n**Ventilation**: Mesh panels and adjustable vents  \\n**Interior Pockets**: Yes (4 pockets)  \\n**Gear Loft**: Included  \\n**Footprint**: Sold separately  \\n**Guy Lines**: Reflective  \\n**Stakes**: Aluminum  \\n**Carry Bag**: Included  \\n**Dimensions**: 10ft x 8ft x 6ft (length x width x peak height)  \\n**Packed Size**: 24 inches x 8 inches  \\n**Weight**: 12 lbs  \\n\\n## TrailMaster X4 Tent User Guide\\n\\n### Introduction\\n\\nThank you for choosing the TrailMaster X4 Tent. This user guide provides instructions on how to set up, use, and maintain your tent effectively. Please read this guide thoroughly before using the tent.\\n\\n### Package Contents\\n\\nEnsure that the package includes the following components:\\n\\n- TrailMaster X4 Tent body\\n- Tent poles\\n- Rainfly (if applicable)\\n- Stakes and guy lines\\n- Carry bag\\n- User Guide\\n\\nIf any components are missing or damaged, please contact our customer support immediately.\\n\\n### Tent Setup\\n\\n#### Step 1: Selecting a Suitable Location\\n\\n- Find a level and clear area for pitching the tent.\\n- Remove any sharp objects or debris that could damage the tent floor.\\n\\n#### Step 2: Unpacking and Organizing Components\\n\\n- Lay out all the tent components on the ground.\\n- Familiarize yourself with each part, including the tent body, poles, rainfly, stakes, and guy lines.\\n\\n#### Step 3: Assembling the Tent Poles\\n\\n- Connect the tent poles according to their designated color codes or numbering.\\n- Slide the connected poles through the pole sleeves or attach them to the tent body clips.\\n\\n#### Step 4: Setting up the Tent Body\\n\\n- Begin at one end and raise the tent body by pushing up the poles.\\n- Ensure that the tent body is evenly stretched and centered.\\n- Secure the tent body to the ground using stakes and guy lines as needed.\\n\\n#### Step 5: Attaching the Rainfly (if applicable)\\n\\n- If your tent includes a rainfly, spread it over the tent body.\\n- Attach the rainfly to the tent corners and secure it with the provided buckles or clips.\\n- Adjust the tension of the rainfly to ensure proper airflow and weather protection.\\n\\n#### Step 6: Securing the Tent\\n\\n- Stake down the tent corners and guy out the guy lines for additional stability.\\n- Adjust the tension of the guy lines to provide optimal stability and wind resistance.\\n\\n### Tent Takedown and Storage\\n\\n#### Step 1: Removing Stakes and Guy Lines\\n\\n- Remove all stakes from the ground.\\n- Untie or disconnect the guy lines from the tent and store them separately.\\n\\n#### Step 2: Taking Down the Tent Body\\n\\n- Start by collapsing the tent poles carefully.\\n- Remove the poles from the pole sleeves or clips.\\n- Collapse the tent body and fold it neatly.\\n\\n#### Step 3: Disassembling the Tent Poles\\n\\n- Disconnect and separate the individual pole sections.\\n- Store the poles in their designated bag or sleeve.\\n\\n#### Step 4: Packing the Tent\\n\\n- Fold the tent body tightly and place it in the carry bag.\\n- Ensure that the rainfly and any other components are also packed securely.\\n\\n### Tent Care and Maintenance\\n\\n- Clean the tent regularly with mild soap and water.\\n- Avoid using harsh chemicals or abrasive cleaners.\\n- Allow the tent to dry completely before storing it.\\n- Store the tent in a cool, dry place away from direct sunlight.\\n\\n## Cautions\\n1. **Avoid Uneven or Rocky Surfaces**: Do not place the tent on uneven or rocky surfaces.\\n2. **Stay Clear of Hazardous Areas**: Avoid setting up the tent near hazardous areas.\\n3. **No Open Flames or Heat Sources**: Do not use open flames, candles, or any other flammable heat sources near the tent.\\n4. **Avoid Overloading**: Do not exceed the maximum weight capacity or overload the tent with excessive gear or equipment.\\n5. **Don't Leave Unattended**: Do not leave the tent unattended while open or occupied.\\n6. **Avoid Sharp Objects**: Keep sharp objects away from the tent to prevent damage to the fabric or punctures.\\n7. **Avoid Using Harsh Chemicals**: Do not use harsh chemicals or abrasive cleaners on the tent, as they may damage the material.\\n8. **Don't Store Wet**: Do not store the tent when it is wet or damp, as it can lead to mold, mildew, or fabric deterioration.\\n9. **Avoid Direct Sunlight**: Avoid prolonged exposure of the tent to direct sunlight, as it can cause fading or weakening of the fabric.\\n10. **Don't Neglect Maintenance**: Regularly clean and maintain the tent according to the provided instructions to ensure its longevity and performance.\\n\\n## Warranty Information\\nThank you for purchasing the TrailMaster X4 Tent. We are confident in the quality and durability of our product. This warranty provides coverage for any manufacturing defects or issues that may arise during normal use of the tent. Please read the terms and conditions of the warranty below:\\n\\n1. **Warranty Coverage**: The TrailMaster X4 Tent is covered by a **2-year limited warranty** from the date of purchase. This warranty covers manufacturing defects in materials and workmanship.\\n\\n2. **What is Covered**:\\n   - Seam or fabric tears that occur under normal use and are not a result of misuse or abuse.\\n   - Issues with the tent poles, zippers, buckles, or other hardware components that affect the functionality of the tent.\\n   - Problems with the rainfly or other included accessories that impact the performance of the tent.\\n\\n3. **What is Not Covered**:\\n   - Damage caused by misuse, abuse, or improper care of the tent.\\n   - Normal wear and tear or cosmetic damage that does not affect the functionality of the tent.\\n   - Damage caused by extreme weather conditions, natural disasters, or acts of nature.\\n   - Any modifications or alterations made to the tent by the user.\\n\\n4. **Claim Process**:\\n   - In the event of a warranty claim, please contact our customer support (contact details provided in the user guide) to initiate the process.\\n   - Provide proof of purchase, including the date and place of purchase, along with a detailed description and supporting evidence of the issue.\\n\\n5. **Resolution Options**:\\n   - Upon receipt of the warranty claim, our customer support team will assess the issue and determine the appropriate resolution.\\n   - Options may include repair, replacement of the defective parts, or, if necessary, replacement of the entire tent.\\n\\n6. **Limitations and Exclusions**:\\n   - Our warranty is non-transferable and applies only to the original purchaser of the TrailMaster X4 Tent.\\n   - The warranty does not cover any incidental or consequential damages resulting from the use or inability to use the tent.\\n   - Any unauthorized repairs or alterations void the warranty.\\n\\n### Contact Information\\n\\nIf you have any questions or need further assistance, please contact our customer support:\\n\\n- Customer Support Phone: +1-800-123-4567\\n- Customer Support Email: support@example.com\\n\\n## Return Policy\\n- **If Membership status \\\"None        \\\":**\\tReturns are accepted within 30 days of purchase, provided the tent is unused, undamaged and in its original packaging. Customer is responsible for the cost of return shipping. Once the returned item is received, a refund will be issued for the cost of the item minus a 10% restocking fee. If the item was damaged during shipping or if there is a defect, the customer should contact customer service within 7 days of receiving the item.\\n- **If Membership status \\\"Gold\\\":**\\tReturns are accepted within 60 days of purchase, provided the tent is unused, undamaged and in its original packaging. Free return shipping is provided. Once the returned item is received, a full refund will be issued. If the item was damaged during shipping or if there is a defect, the customer should contact customer service within 7 days of receiving the item.\\n- **If Membership status \\\"Platinum\\\":**\\tReturns are accepted within 90 days of purchase, provided the tent is unused, undamaged and in its original packaging. Free return shipping is provided, and a full refund will be issued. If the item was damaged during shipping or if there is a defect, the customer should contact customer service within 7 days of receiving the item.\\n\\n## Reviews\\n1) **Rating:** 5\\n   **Review:** I am extremely happy with my TrailMaster X4 Tent! It's spacious, easy to set up, and kept me dry during a storm. The UV protection is a great addition too. Highly recommend it to anyone who loves camping!\\n\\n2) **Rating:** 3\\n   **Review:** I bought the TrailMaster X4 Tent, and while it's waterproof and has a spacious interior, I found it a bit difficult to set up. It's a decent tent, but I wish it were easier to assemble.\\n\\n3) **Rating:** 5\\n   **Review:** The TrailMaster X4 Tent is a fantastic investment for any serious camper. The easy setup and spacious interior make it perfect for extended trips, and the waterproof design kept us dry in heavy rain.\\n\\n4) **Rating:** 4\\n   **Review:** I like the TrailMaster X4 Tent, but I wish it came in more colors. It's comfortable and has many useful features, but the green color just isn't my favorite. Overall, it's a good tent.\\n\\n5) **Rating:** 5\\n   **Review:** This tent is perfect for my family camping trips. The spacious interior and convenient storage pocket make it easy to stay organized. It's also super easy to set up, making it a great addition to our gear.\\n\\n## FAQ\\n1) Can the TrailMaster X4 Tent be used in winter conditions?\\n   The TrailMaster X4 Tent is designed for 3-season use and may not be suitable for extreme winter conditions with heavy snow and freezing temperatures.\\n\\n2) How many people can comfortably sleep in the TrailMaster X4 Tent?\\n   The TrailMaster X4 Tent can comfortably accommodate up to 4 people with room for their gear.\\n\\n3) Is there a warranty on the TrailMaster X4 Tent?\\n   Yes, the TrailMaster X4 Tent comes with a 2-year limited warranty against manufacturing defects.\\n\\n4) Are there any additional accessories included with the TrailMaster X4 Tent?\\n   The TrailMaster X4 Tent includes a rainfly, tent stakes, guy lines, and a carry bag for easy transport.\\n\\n5) Can the TrailMaster X4 Tent be easily carried during hikes?\\n   Yes, the TrailMaster X4 Tent weighs just 12lbs, and when packed in its carry bag, it can be comfortably carried during hikes.\\n\\n\\n\\n# Information about product item_number: 8\\nAlpine Explorer Tent, price $350,\\n\\n## Brand\\nAlpineGear\\n\\n## Category\\nTents\\n\\n### Features\\n- Waterproof: Provides reliable protection against rain and moisture.\\n- Easy Setup: Simple and quick assembly process, making it convenient for camping.\\n- Room Divider: Includes a detachable divider to create separate living spaces within the tent.\\n- Excellent Ventilation: Multiple mesh windows and vents promote airflow and reduce condensation.\\n- Gear Loft: Built-in gear loft or storage pockets for organizing and storing camping gear.\\n\\n## Technical Specs\\n**Best Use**: Camping  \\n**Capacity**: 8-person  \\n**Season Rating**: 3-season  \\n**Setup**: Freestanding  \\n**Material**: Polyester  \\n**Waterproof**: Yes  \\n**Floor Area**: 120 square feet  \\n**Peak Height**: 6.5 feet  \\n**Number of Doors**: 2  \\n**Color**: Orange  \\n**Rainfly**: Included  \\n**Rainfly Waterproof Rating**: 3000mm  \\n**Tent Poles**: Aluminum  \\n**Pole Diameter**: 12mm  \\n**Ventilation**: Mesh panels and adjustable vents  \\n**Interior Pockets**: 4 pockets  \\n**Gear Loft**: Included  \\n**Footprint**: Sold separately  \\n**Guy Lines**: Reflective  \\n**Stakes**: Aluminum  \\n**Carry Bag**: Included  \\n**Dimensions**: 12ft x 10ft x 7ft (Length x Width x Peak Height)  \\n**Packed Size**: 24 inches x 10 inches  \\n**Weight**: 17 lbs\\n\\n## Alpine Explorer Tent User Guide\\n\\nThank you for choosing the Alpine Explorer Tent. This user guide provides instructions on how to set up, use, and maintain your tent effectively. Please read this guide thoroughly before using the tent.\\n\\n### Package Contents\\n\\nEnsure that the package includes the following components:\\n\\n- Alpine Explorer Tent body\\n- Tent poles\\n- Rainfly\\n- Stakes and guy lines\\n- Carry bag\\n- User Guide\\n\\nIf any components are missing or damaged, please contact our customer support immediately.\\n\\n### Tent Setup\\n\\n**Step 1: Selecting a Suitable Location**\\n\\n- Find a level and clear area for pitching the tent.\\n- Remove any sharp objects or debris that could damage the tent floor.\\n\\n**Step 2: Unpacking and Organizing Components**\\n\\n- Lay out all the tent components on the ground.\\n- Familiarize yourself with each part, including the tent body, poles, rainfly, stakes, and guy lines.\\n\\n**Step 3: Assembling the Tent Poles**\\n\\n- Connect the tent poles according to their designated color codes or numbering.\\n- Slide the connected poles through the pole sleeves or attach them to the tent body clips.\\n\\n**Step 4: Setting up the Tent Body**\\n\\n- Begin at one end and raise the tent body by pushing up the poles.\\n- Ensure that the tent body is evenly stretched and centered.\\n- Secure the tent body to the ground using stakes and guy lines as needed.\\n\\n**Step 5: Attaching the Rainfly**\\n\\n- Spread the rainfly over the tent body.\\n- Attach the rainfly to the tent corners and secure it with the provided buckles or clips.\\n- Adjust the tension of the rainfly to ensure proper airflow and weather protection.\\n\\n**Step 6: Securing the Tent**\\n\\n- Stake down the tent corners and guy out the guy lines for additional stability.\\n- Adjust the tension of the guy lines to provide optimal stability and wind resistance.\\n\\n### Tent Takedown and Storage\\n\\n**Step 1: Removing Stakes and Guy Lines**\\n\\n- Remove all stakes from the ground.\\n- Untie or disconnect the guy lines from the tent and store them separately.\\n\\n**Step 2: Taking Down the Tent Body**\\n\\n- Start by collapsing the tent poles carefully.\\n- Remove the poles from the pole sleeves or clips.\\n- Collapse the tent body and fold it neatly.\\n\\n**Step 3: Disassembling the Tent Poles**\\n\\n- Disconnect and separate the individual pole sections.\\n- Store the poles in their designated bag or sleeve.\\n\\n**Step 4: Packing the Tent**\\n\\n- Fold the tent body tightly and place it in the carry bag.\\n- Ensure that the rainfly and any other components are also packed securely.\\n\\n### Tent Care and Maintenance\\n\\n- Clean the tent regularly with mild soap and water.\\n- Avoid using harsh chemicals or abrasive cleaners.\\n- Allow the tent to dry completely before storing it.\\n- Store the tent in a cool, dry place away from direct sunlight.\\n\\n### Contact Information\\n\\nIf you have any questions or need further assistance, please contact our customer support:\\n\\n- Customer Support Phone: +1-800-123-4567\\n- Customer Support Email: support@alpineexplorer.com\\n\\nWe hope you enjoy your Alpine Explorer Tent and have a great outdoor experience!\\n\\n## Cautions:\\n1. **Stable Setup**: Ensure the tent is pitched on level ground and avoid uneven or sloping terrain to maintain stability.\\n2. **Safe Location**: Choose a safe and secure location away from hazardous areas like cliffs, rivers, or flood-prone zones.\\n3. **Windproof**: Do not leave the tent unattended during strong winds or severe weather conditions; properly secure all guy lines and stakes for added stability.\\n4. **Flame-Free**: Never use open flames or heating equipment inside the tent to prevent fire hazards and damage to the tent material.\\n5. **Gentle Glide**: Avoid dragging or pulling the tent body on rough surfaces to prevent tears or abrasions; lift and move the tent with care.\\n6. **Dry and Mold-Free**: Ensure the tent is completely dry before storing to prevent mold and mildew growth; avoid packing a damp or wet tent.\\n7. **Sunshine Protection**: Avoid storing the tent in direct sunlight for extended periods to prevent UV damage to the fabric; find a cool and shaded storage area.\\n8. **Capacity Check**: Do not exceed the tent's recommended weight capacity to maintain its structural integrity and prevent potential damage.\\n9. **Sharp Object Safety**: Keep sharp objects and tools away from the tent to avoid punctures or fabric damage; handle the tent and its components with care.\\n10. **Original Structure**: Do not modify or alter the tent structure or components, as it may compromise the tent's performance and void the warranty.\\nBy following these cautionary guidelines, you can ensure safe and optimal use of the Alpine Explorer Tent.\\n\\n## Warranty Information:\\n\\n- **Warranty Duration:** The Alpine Explorer Tent is covered by a 2-year limited warranty from the date of purchase.\\n- **Warranty Coverage:** The warranty covers manufacturing defects in materials and workmanship, including issues such as seam separation, zipper malfunction, or fabric defects.\\n- **Exclusions:** The warranty does not cover damages caused by improper use, accidents, normal wear and tear, unauthorized modifications, or failure to follow care and maintenance instructions.\\n- **Warranty Claim Process:** In the event of a warranty claim, please contact our customer support with your proof of purchase and a detailed description of the issue. Our support team will guide you through the necessary steps to assess the claim and provide a resolution.\\n- **Warranty Remedies:** Depending on the nature of the warranty claim, we will either repair or replace the defective product. If the exact product is no longer available, we may offer a comparable replacement at our discretion.\\n- **Limitations:** The warranty is non-transferable and applies only to the original purchaser of the Alpine Explorer Tent. It is valid only when the product is purchased from an authorized retailer.\\n- **Legal Rights:** This warranty gives you specific legal rights, and you may also have other rights that vary by jurisdiction.\\n\\nFor any warranty-related inquiries or to initiate a warranty claim, please contact our customer support using the provided contact information.\\n\\nPlease retain your proof of purchase as it will be required to verify warranty eligibility. Kindly note that the warranty information provided here is for reference purposes. For the most accurate and up-to-date warranty details, please refer to the warranty card included with your Alpine Explorer Tent.\\n\\n## Return Policy\\n- **If Membership status \\\"None        \\\":**\\tReturns are accepted within 30 days of purchase, provided the tent is unused, undamaged and in its original packaging. Customer is responsible for the cost of return shipping. Once the returned item is received, a refund will be issued for the cost of the item minus a 10% restocking fee. If the item was damaged during shipping or if there is a defect, the customer should contact customer service within 7 days of receiving the item.\\n- **If Membership status \\\"Gold\\\":**\\tReturns are accepted within 60 days of purchase, provided the tent is unused, undamaged and in its original packaging. Free return shipping is provided. Once the returned item is received, a full refund will be issued. If the item was damaged during shipping or if there is a defect, the customer should contact customer service within 7 days of receiving the item.\\n- **If Membership status \\\"Platinum\\\":**\\tReturns are accepted within 90 days of purchase, provided the tent is unused, undamaged and in its original packaging. Free return shipping is provided, and a full refund will be issued. If the item was damaged during shipping or if there is a defect, the customer should contact customer service within 7 days of receiving the item.\\n\\n## Reviews\\n36) **Rating:** 5\\n   **Review:** The Alpine Explorer Tent is amazing! It's easy to set up, has excellent ventilation, and the room divider is a great feature for added privacy. Highly recommend it for family camping trips!\\n\\n37) **Rating:** 4\\n   **Review:** I bought the Alpine Explorer Tent, and while it's waterproof and spacious, I wish it had more storage pockets. Overall, it's a good tent for camping.\\n\\n38) **Rating:** 5\\n   **Review:** The Alpine Explorer Tent is perfect for my family's camping adventures. It's easy to set up, has great ventilation, and the gear loft is an excellent addition. Love it!\\n\\n39) **Rating:** 4\\n   **Review:** I like the Alpine Explorer Tent, but I wish it came with a footprint. It's comfortable and has many useful features, but a footprint would make it even better. Overall, it's a great tent.\\n\\n40) **Rating:** 5\\n   **Review:** This tent is perfect for our family camping trips. It's spacious, easy to set up, and the room divider is a great feature for added privacy. The gear loft is a nice bonus for extra storage.\\n\\n## FAQ\\n34) How easy is it to set up the Alpine Explorer Tent?\\n   The Alpine Explorer Tent features a quick and easy setup, thanks to color-coded poles and intuitive design. Most users can set it up in just a few minutes.\\n\\n35) Can the Alpine Explorer Tent accommodate two queen-sized air mattresses?\\n   Yes, the Alpine Explorer Tent is spacious enough to accommodate two queen-sized air mattresses, making it an ideal choice for comfortable family camping.\\n\\n36) What is the purpose of the room divider in the Alpine Explorer Tent?\\n   The room divider in the Alpine Explorer Tent allows you to create separate sleeping and living spaces, providing privacy and organization for your camping experience.\\n\\n37) How does the gear loft in the Alpine Explorer Tent work?\\n   The gear loft in the Alpine Explorer Tent is a suspended mesh shelf that provides additional storage space for small items, keeping them organized and easily accessible.\\n\\n38) Can the Alpine Explorer Tent be used in snowy conditions?\\n   The Alpine Explorer Tent is designed primarily for three-season use. While it can withstand light snowfall, it may not provide adequate structural support and insulation during heavy snow or extreme winter conditions.\\n\\n\\n\\n# Information about product item_number: 12\\nTrekMaster Camping Chair, price $50\\n\\n## Brand\\nCampBuddy\\n\\n## Category\\nCamping Tables\\n\\n## Features\\n- Sturdy Construction: Built with high-quality materials for durability and long-lasting performance.\\n- Lightweight and Portable: Designed to be lightweight and easy to carry, making it convenient for camping, hiking, and outdoor activities.\\n- Foldable Design: Allows for compact storage and effortless transportation.\\n- Comfortable Seating: Provides ergonomic support and comfortable seating experience with padded seat and backrest.\\n- Adjustable Recline: Offers multiple reclining positions for personalized comfort.\\n- Cup Holder: Integrated cup holder for keeping beverages within reach.\\n- Side Pockets: Convenient side pockets for storing small items like phones, books, or snacks.\\n- Robust Frame: Strong frame construction to support various body types and provide stability on uneven terrain.\\n- Easy Setup: Quick and hassle-free setup with a folding mechanism or snap-together design.\\n- Weight Capacity: High weight capacity to accommodate different individuals.\\n- Weather Resistant: Resistant to outdoor elements such as rain, sun, and wind.\\n- Easy to Clean: Simple to clean and maintain, often featuring removable and washable seat covers.\\n- Versatile Use: Suitable for various outdoor activities like camping, picnics, sporting events, and backyard gatherings.\\n- Carry Bag: Includes a carrying bag for convenient storage and transportation.\\n\\n## Technical Specs\\n- **Best Use**: Camping, outdoor activities\\n- **Material:**: Durable polyester fabric with reinforced stitching\\n- **Color:** Blue\\n- **Weight:** 6lbs\\n- **Frame Material**: Sturdy steel or lightweight aluminum\\n- **Weight Capacity**: Typically supports up to 250 pounds (113 kilograms)\\n- **Weight** Varies between 2 to 5 pounds (0.9 to 2.3 kilograms), depending on the model\\n- **Folded Dimensions**: Compact size for easy storage and transport (e.g., approximately 20 x 5 x 5 inches)\\n- **Open Dimensions**: Provides comfortable seating area (e.g., approximately 20 x 20 x 30 inches)\\n- **Seat Height**: Comfortable height from the ground (e.g., around 12 to 18 inches)\\n- **Backrest Height**: Provides back support (e.g., approximately 20 to 25 inches)\\n- **Cup Holder**: Integrated cup holder for holding beverages securely\\n- **Side Pockets**: Convenient storage pockets for small items like phones, books, or snacks\\n- **Armrests**: Padded armrests for added comfort\\n- **Reclining Positions**: Adjustable backrest with multiple reclining positions for personalized comfort\\n- **Sunshade or Canopy**: Optional feature providing sun protection and shade\\n- **Carrying Case**: Includes a carrying bag or case for easy transport and storage\\n- **Easy Setup**: Simple assembly with foldable or snap-together design\\n- **Weather Resistance**: Water-resistant or waterproof material for durability in various weather conditions\\n- **Cleaning**: Easy to clean with removable and washable seat covers (if applicable)\\n\\n## Return Policy\\n- **If Membership status \\\"None\\\":**\\tIf you are not satisfied with your purchase, you can return it within 30 days for a full refund. The product must be unused and in its original packaging.\\n- **If Membership status \\\"Gold\\\":**\\tGold members can return their camping tables within 60 days of purchase for a full refund or exchange. The product must be unused and in its original packaging.\\n- **If Membership status \\\"Platinum\\\":**\\tPlatinum members can return their camping tables within 90 days of purchase for a full refund or exchange. The product must be unused and in its original packaging. Additionally, Platinum members receive a 10% discount on all camping table purchases but from the same product brand.\\n\\n## User Guide/Manual\\n\\n### 1. Safety Guidelines\\n\\n- Read and understand all instructions and warnings before using the camping chair.\\n- Always ensure that the chair is placed on a stable and level surface to prevent tipping or accidents.\\n- Do not exceed the weight capacity specified in the technical specifications.\\n- Keep children away from the chair to avoid potential hazards.\\n- Avoid placing the chair near open flames or heat sources.\\n- Use caution when adjusting or reclining the chair to prevent pinching or injury.\\n- Do not use the chair as a step stool or ladder.\\n- Inspect the chair before each use for any signs of damage or wear. If any issues are found, discontinue use and contact customer support.\\n\\n### 2. Setup and Assembly\\n\\nTo set up the camping chair, follow these steps:\\n\\n1. Open the carrying case and remove the folded chair.\\n2. Unfold the chair by extending the frame until it locks into place.\\n3. Ensure that all locking mechanisms are fully engaged and secure.\\n4. Pull the fabric seat taut and adjust it for optimal comfort.\\n5. Make sure the chair is stable and balanced before use.\\n\\n### 3. Adjustments and Usage\\n\\n- To adjust the backrest, locate the reclining mechanism and choose the desired angle. Engage the lock to secure the position.\\n- Use the padded armrests for added comfort and support.\\n- The integrated cup holder and side pockets provide convenient storage for your beverages, books, or other small items.\\n- Take advantage of the chair's lightweight and foldable design for easy transportation and storage.\\n\\n### 4. Care and Maintenance\\n\\n- Regularly inspect the chair for any signs of damage or wear. If any parts are damaged, contact customer support for assistance.\\n- To clean the chair, use a mild detergent and water solution. Avoid using harsh chemicals or abrasive cleaners that may damage the fabric or frame.\\n- If the chair includes removable and washable seat covers, follow the provided instructions for proper cleaning and care.\\n- Store the chair in a dry and cool place when not in use to prevent damage from moisture or extreme temperatures.\\n- Avoid prolonged exposure to direct sunlight to maintain the color and integrity of the fabric.\\n\\n## Caution Information\\n\\n1. **Do not exceed the weight capacity**\\n2. **Do not use on uneven or unstable surfaces**\\n3. **Do not use as a step stool or ladder**\\n4. **Do not leave unattended near open flames or heat sources**\\n5. **Do not lean back excessively**\\n6. **Do not use harsh chemicals or abrasive cleaners**\\n7. **Do not leave exposed to prolonged sunlight**\\n8. **Do not drag or slide the chair**\\n9. **Do not place sharp objects in the storage pockets**\\n10. **Do not modify or alter the chair**\\n\\nCertainly! Here's a sample warranty information for the TrekMaster Camping Chair, along with fictitious contact details for customer care:\\n\\n## Warranty Information\\n\\n1. Limited Warranty Coverage:\\n\\n- Warranty Duration: 1 year from the date of purchase.\\n- Coverage: This warranty covers manufacturing defects in materials and workmanship.\\n\\n2. Warranty Exclusions:\\n\\n- Damage caused by misuse, abuse, or improper care.\\n- Normal wear and tear, including natural fading of colors and gradual deterioration over time.\\n- Any modifications or alterations made to the chair.\\n- Damage caused by accidents, fire, or acts of nature.\\n\\n3. Warranty Claim Process:\\n\\nIn the event of a warranty claim, please follow these steps:\\n\\n- Contact our Customer Care within the warranty period.\\n- Provide proof of purchase, such as a receipt or order number.\\n- Describe the issue with the camping chair and provide any necessary supporting information or photographs.\\n- Our customer care representative will assess the claim and provide further instructions.\\n\\n4. Contact Information:\\n\\nFor any questions, concerns, or warranty claims, please reach out to our friendly customer care team:\\n\\n- Customer Care Phone: 1-800-925-4351\\n- Customer Care Email: support@trekmaster.com\\n- Customer Care Hours: Monday-Friday, 9:00 AM to 5:00 PM (PST)\\n- Website: www.trekmaster.com/support\\n\\n## Reviews\\n\\n1) **Rating:** 5\\n   **Review:** I absolutely love the TrekMaster Camping Chair! It's lightweight, sturdy, and super comfortable. The padded armrests and breathable fabric make it perfect for long camping trips. Highly recommended for outdoor enthusiasts!\\n\\n2) **Rating:** 4\\n   **Review:** The TrekMaster Camping Chair is a great value for the price. It's easy to set up and packs down nicely. The cup holder and side pockets are convenient features. The only downside is that it could be a bit more cushioned for added comfort.\\n\\n3) **Rating:** 5\\n   **Review:** This camping chair exceeded my expectations! It's well-built, durable, and provides excellent back support. The compact design and lightweight construction make it perfect for backpacking trips. I'm thrilled with my purchase!\\n\\n4) **Rating:** 3\\n   **Review:** The TrekMaster Camping Chair is decent for short outings. It's lightweight and easy to carry, but I found the seat fabric to be less durable than expected. It's suitable for occasional use, but I would recommend something sturdier for frequent camping trips.\\n\\n5) **Rating:** 4\\n   **Review:** I'm happy with my TrekMaster Camping Chair. It's comfortable and sturdy enough to support my weight. The adjustable armrests and storage pockets are handy features. I deducted one star because the chair is a bit low to the ground, making it a bit challenging to get in and out of for some individuals.\\n\\n## FAQ\\n54) What is the weight capacity of the TrekMaster Camping Chair?\\n   The TrekMaster Camping Chair can support up to 300 lbs (136 kg), thanks to its durable steel frame and strong fabric.\\n\\n55) Can the TrekMaster Camping Chair be used on uneven ground?\\n   Yes, the TrekMaster Camping Chair has non-slip feet, which provide stability and prevent sinking into soft or uneven ground.\\n\\n56) How compact is the TrekMaster Camping Chair when folded?\\n   When folded, the TrekMaster Camping Chair measures approximately 38in x 5in x 5in, making it compact and easy to carry or pack in your vehicle.\\n\\n57) Is the TrekMaster Camping Chair easy to clean?\\n   Yes, the TrekMaster Camping Chair is made of durable and easy-to-clean fabric. Simply wipe it down with a damp cloth and let it air dry.\\n\\n58) Are there any accessories available for the TrekMaster Camping Chair?\\n   While there are no specific accessories designed for the TrekMaster Camping Chair, it comes with a built-in cup holder and can be used with a variety of universal camping chair accessories such as footrests, side tables, or organizers.\\n\\n\",\n",
      "        \"final_answer\": null,\n",
      "        \"original_response\": \"[THOUGHT]\\nWe have retrieved the past orders, but we need to find the specific order for the tent. Let's check the descriptions of the items in each order to find the TrailMaster X4 Tent.\\n[ACTION]\\n{\\\"action\\\": \\\"CustomerSupport.AskAboutProducts\\\", \\\"action_variables\\\": {\\\"input\\\": \\\"What is the waterproof rating for the TrailMaster X4 Tent?\\\"}}\"\n",
      "    },\n",
      "    {\n",
      "        \"thought\": null,\n",
      "        \"action\": null,\n",
      "        \"action_variables\": {},\n",
      "        \"observation\": null,\n",
      "        \"final_answer\": \"The waterproof rating for the TrailMaster X4 Tent is 2000mm.\",\n",
      "        \"original_response\": \"[FINAL ANSWER]\\nThe waterproof rating for the TrailMaster X4 Tent is 2000mm.\"\n",
      "    }\n",
      "]\n",
      "The waterproof rating for the TrailMaster X4 Tent is 2000mm.\n"
     ]
    }
   ],
   "source": [
    "result = qna(\"What's the waterproof rating for the tent I just ordered?\")\n",
    "print(result[\"answer\"])"
   ]
  },
  {
   "cell_type": "markdown",
   "metadata": {},
   "source": [
    "### Evaluate LLM Response on Larger Dataset"
   ]
  },
  {
   "cell_type": "code",
   "execution_count": 85,
   "metadata": {},
   "outputs": [],
   "source": [
    "import json\n",
    "import os\n",
    "\n",
    "# Loading data\n",
    "def load_jsonl(path):\n",
    "    with open(path, \"r\") as f:\n",
    "        return [json.loads(line) for line in f.readlines()]\n",
    "\n",
    "path = os.path.join(os.getcwd() + \"/data.jsonl\")\n",
    "data = load_jsonl(path)"
   ]
  },
  {
   "cell_type": "code",
   "execution_count": 86,
   "metadata": {},
   "outputs": [
    {
     "name": "stdout",
     "output_type": "stream",
     "text": [
      "test data is not a file but loaded data\n",
      "Error logging data as dataset, continuing without it\n",
      "{'artifacts': {'gpt_coherence': ['3',\n",
      "                                 '3',\n",
      "                                 '5',\n",
      "                                 '5',\n",
      "                                 '1',\n",
      "                                 '5',\n",
      "                                 '3',\n",
      "                                 '5',\n",
      "                                 '5',\n",
      "                                 '3',\n",
      "                                 '5',\n",
      "                                 '5',\n",
      "                                 '1'],\n",
      "               'gpt_fluency': ['3',\n",
      "                               '3',\n",
      "                               '5',\n",
      "                               '5',\n",
      "                               '5',\n",
      "                               '5',\n",
      "                               '5',\n",
      "                               '5',\n",
      "                               '5',\n",
      "                               '5',\n",
      "                               '5',\n",
      "                               '5',\n",
      "                               '1'],\n",
      "               'gpt_groundedness': ['1',\n",
      "                                    '1',\n",
      "                                    '1',\n",
      "                                    '1',\n",
      "                                    '5',\n",
      "                                    '5',\n",
      "                                    '5',\n",
      "                                    '1',\n",
      "                                    '5',\n",
      "                                    '1',\n",
      "                                    '1',\n",
      "                                    '1',\n",
      "                                    '1'],\n",
      "               'gpt_relevance': ['5',\n",
      "                                 '3',\n",
      "                                 '5',\n",
      "                                 '5',\n",
      "                                 '5',\n",
      "                                 '5',\n",
      "                                 '5',\n",
      "                                 '5',\n",
      "                                 '5',\n",
      "                                 '3',\n",
      "                                 '5',\n",
      "                                 '5',\n",
      "                                 '1'],\n",
      "               'gpt_similarity': ['3',\n",
      "                                  '3',\n",
      "                                  '5',\n",
      "                                  '5',\n",
      "                                  '5',\n",
      "                                  '5',\n",
      "                                  '1',\n",
      "                                  '5',\n",
      "                                  '5',\n",
      "                                  '5',\n",
      "                                  '5',\n",
      "                                  '5',\n",
      "                                  '1']},\n",
      " 'metrics': {'exact_match': 0.0,\n",
      "             'f1_score': 0.41946997810793607,\n",
      "             'mean_bertscore_f1': 0.3653343729674816,\n",
      "             'mean_bertscore_precision': 0.25083251841939413,\n",
      "             'mean_bertscore_recall': 0.5164986585195248}}\n",
      "Open in AI Studio: https://ml.azure.com/projectEvaluation?flight=AiStudio,DeployChatWebapp,SkipAADRegistration/projectEvaluation&wsid=/subscriptions/597966d1-829f-417e-9950-8189061ec09c/resourceGroups/azureai_development/providers/Microsoft.MachineLearningServices/workspaces/dantaylo-bugbashcli\n"
     ]
    }
   ],
   "source": [
    "from azure.ai.generative.evaluate import evaluate\n",
    "from pprint import pprint\n",
    "\n",
    "# Evaluate the default vs the improved system prompt to see if the improved prompt\n",
    "# performs consistently better across a larger set of inputs\n",
    "result = evaluate(\n",
    "    evaluation_name=\"baseline-evaluation\",\n",
    "    asset=qna,# model_uri:\n",
    "    data=data,\n",
    "    task_type=\"qa\",\n",
    "    prediction_data=\"answer\",\n",
    "    truth_data=\"truth\", # Optional\n",
    "    metrics_config={\n",
    "        \"openai_params\": {\n",
    "            \"api_version\": \"2023-05-15\",\n",
    "            \"api_base\": os.getenv(\"OPENAI_API_BASE\"),\n",
    "            \"api_type\": \"azure\",\n",
    "            \"api_key\": os.getenv(\"OPENAI_API_KEY\"),\n",
    "            \"deployment_id\": chat_model_deployment\n",
    "        },\n",
    "        \"questions\": \"question\",\n",
    "        \"contexts\": \"context\",\n",
    "    },\n",
    "    tracking_uri=client.tracking_uri,\n",
    ")\n",
    "pprint(result)\n",
    "\n",
    "# Print a link to open the evalautions page in AI Studio\n",
    "print(f\"Open in AI Studio: https://ml.azure.com/projectEvaluation?flight=AiStudio,DeployChatWebapp,SkipAADRegistration/projectEvaluation&wsid=/subscriptions/{client.subscription_id}/resourceGroups/{client.resource_group_name}/providers/Microsoft.MachineLearningServices/workspaces/{client.project_name}\")"
   ]
  },
  {
   "cell_type": "markdown",
   "metadata": {},
   "source": [
    "### Evaluate copilot performance across different parameters"
   ]
  },
  {
   "cell_type": "code",
   "execution_count": 76,
   "metadata": {},
   "outputs": [
    {
     "name": "stdout",
     "output_type": "stream",
     "text": [
      "test data is not a file but loaded data\n",
      "Error logging data as dataset, continuing without it\n",
      "test data is not a file but loaded data\n",
      "Error logging data as dataset, continuing without it\n",
      "test data is not a file but loaded data\n",
      "Error logging data as dataset, continuing without it\n",
      "test data is not a file but loaded data\n",
      "Error logging data as dataset, continuing without it\n"
     ]
    },
    {
     "name": "stderr",
     "output_type": "stream",
     "text": [
      "Retrying azureml.metrics.text.qa._similarity_utils.completion_with_retry.<locals>._completion_with_retry in 4.0 seconds as it raised APIConnectionError: Error communicating with OpenAI: ('Connection aborted.', RemoteDisconnected('Remote end closed connection without response')).\n"
     ]
    },
    {
     "name": "stdout",
     "output_type": "stream",
     "text": [
      "test data is not a file but loaded data\n",
      "Error logging data as dataset, continuing without it\n",
      "test data is not a file but loaded data\n",
      "Error logging data as dataset, continuing without it\n",
      "[{'artifacts': {'gpt_coherence': ['5',\n",
      "                                  '3',\n",
      "                                  '5',\n",
      "                                  '5',\n",
      "                                  '1',\n",
      "                                  '5',\n",
      "                                  '3',\n",
      "                                  '5',\n",
      "                                  '5',\n",
      "                                  '3',\n",
      "                                  '5',\n",
      "                                  '5',\n",
      "                                  '1'],\n",
      "                'gpt_fluency': ['5',\n",
      "                                '3',\n",
      "                                '5',\n",
      "                                '5',\n",
      "                                '5',\n",
      "                                '5',\n",
      "                                '3',\n",
      "                                '5',\n",
      "                                '5',\n",
      "                                '5',\n",
      "                                '5',\n",
      "                                '5',\n",
      "                                '1'],\n",
      "                'gpt_groundedness': ['5',\n",
      "                                     '1',\n",
      "                                     '1',\n",
      "                                     '1',\n",
      "                                     '1',\n",
      "                                     '5',\n",
      "                                     '5',\n",
      "                                     '5',\n",
      "                                     '5',\n",
      "                                     '1',\n",
      "                                     '1',\n",
      "                                     '5',\n",
      "                                     '1'],\n",
      "                'gpt_relevance': ['5',\n",
      "                                  '1',\n",
      "                                  '5',\n",
      "                                  '5',\n",
      "                                  '5',\n",
      "                                  '5',\n",
      "                                  '3',\n",
      "                                  '5',\n",
      "                                  '5',\n",
      "                                  '3',\n",
      "                                  '5',\n",
      "                                  '5',\n",
      "                                  '1'],\n",
      "                'gpt_similarity': ['5',\n",
      "                                   '1',\n",
      "                                   '5',\n",
      "                                   '5',\n",
      "                                   '5',\n",
      "                                   '5',\n",
      "                                   '1',\n",
      "                                   '5',\n",
      "                                   '5',\n",
      "                                   '5',\n",
      "                                   '5',\n",
      "                                   '5',\n",
      "                                   '1']},\n",
      "  'metrics': {'exact_match': 0.0,\n",
      "              'f1_score': 0.44378049510720124,\n",
      "              'mean_bertscore_f1': 0.3843197389864005,\n",
      "              'mean_bertscore_precision': 0.2723219062273319,\n",
      "              'mean_bertscore_recall': 0.5311282953390708}}]\n",
      "Open in AI Studio: https://ml.azure.com/projectEvaluation?flight=AiStudio,DeployChatWebapp,SkipAADRegistration/projectEvaluation&wsid=/subscriptions/597966d1-829f-417e-9950-8189061ec09c/resourceGroups/azureai_development/providers/Microsoft.MachineLearningServices/workspaces/dantaylo-bugbashcli\n"
     ]
    }
   ],
   "source": [
    "# Sweep over different values of temperature and number_of_docs to find the best value\n",
    "# Evaluation results will be logged to project by setting tracking_uri\n",
    "result = evaluate( \n",
    "    evaluation_name=\"qna-params-eval\",\n",
    "    asset=qna,\n",
    "    data=data,\n",
    "    task_type=\"qa\",\n",
    "    prediction_data=\"answer\",\n",
    "    truth_data=\"truth\", # Optional\n",
    "    metrics_config={\n",
    "        \"openai_params\": {\n",
    "            \"api_version\": \"2023-05-15\",\n",
    "            \"api_base\": os.getenv(\"OPENAI_API_BASE\"),\n",
    "            \"api_type\": \"azure\",\n",
    "            \"api_key\": os.getenv(\"OPENAI_API_KEY\"),\n",
    "            \"deployment_id\": chat_model_deployment\n",
    "        },\n",
    "        \"questions\": \"question\",\n",
    "        \"contexts\": \"context\",\n",
    "    },\n",
    "    tracking_uri=client.tracking_uri,\n",
    "    params={\n",
    "        \"temperature\": [0.0, 0,1],\n",
    "        \"number_of_docs\": [5, 10]\n",
    "    }\n",
    ")\n",
    "\n",
    "pprint(result)\n",
    "\n",
    "# Print a link to open the evalautions page in AI Studio\n",
    "print(f\"Open in AI Studio: https://ml.azure.com/projectEvaluation?flight=AiStudio,DeployChatWebapp,SkipAADRegistration/projectEvaluation&wsid=/subscriptions/{client.subscription_id}/resourceGroups/{client.resource_group_name}/providers/Microsoft.MachineLearningServices/workspaces/{client.project_name}\")"
   ]
  },
  {
   "cell_type": "markdown",
   "metadata": {},
   "source": [
    "### Deploy Semantic Kernel QA Function to MIR"
   ]
  },
  {
   "cell_type": "code",
   "execution_count": 19,
   "metadata": {},
   "outputs": [],
   "source": [
    "# download MLIndex files so they can be packaged with deployment code\n",
    "client.mlindexes.download(name=\"product-info-cog-search-index\", download_path=\"./qna_simple/mlindex\", label=\"latest\")\n",
    "\n",
    "# set the deployment name to be used, the url needs to be globally unique so include project name\n",
    "deployment_name = f\"{client.project_name}-sk-copilot\" "
   ]
  },
  {
   "cell_type": "code",
   "execution_count": 20,
   "metadata": {},
   "outputs": [
    {
     "name": "stdout",
     "output_type": "stream",
     "text": [
      "System-assigned identity already has access to project. Skipping granting it access to project\n"
     ]
    },
    {
     "name": "stderr",
     "output_type": "stream",
     "text": [
      "Check: endpoint dantaylo-bugbashcli-sk-copilot exists\n",
      "Uploading mlflow_model (0.02 MBs): 100%|██████████| 16643/16643 [00:00<00:00, 26566.58it/s]\n",
      "\n",
      "\n"
     ]
    },
    {
     "name": "stdout",
     "output_type": "stream",
     "text": [
      ".................................................................................................................................."
     ]
    },
    {
     "name": "stderr",
     "output_type": "stream",
     "text": [
      "Readonly attribute principal_id will be ignored in class <class 'azure.ai.ml._restclient.v2022_05_01.models._models_py3.ManagedServiceIdentity'>\n",
      "Readonly attribute tenant_id will be ignored in class <class 'azure.ai.ml._restclient.v2022_05_01.models._models_py3.ManagedServiceIdentity'>\n"
     ]
    }
   ],
   "source": [
    "from azure.ai.generative.entities.deployment import Deployment\n",
    "from azure.ai.generative.entities.models import LocalModel\n",
    "\n",
    "deployment = Deployment(\n",
    "    name=deployment_name,\n",
    "    model=LocalModel(\n",
    "        path=\"./qna_simple\",\n",
    "        conda_file=\"conda.yaml\",\n",
    "        loader_module=\"model_loader.py\",\n",
    "    ),\n",
    ")\n",
    "\n",
    "deployment = client.deployments.create_or_update(deployment)"
   ]
  },
  {
   "cell_type": "markdown",
   "metadata": {},
   "source": [
    "### Invoke Deployment"
   ]
  },
  {
   "cell_type": "code",
   "execution_count": 21,
   "metadata": {},
   "outputs": [
    {
     "name": "stdout",
     "output_type": "stream",
     "text": [
      "[{\"question\": \"Which tent has the highest rainfly waterproof rating?\", \"answer\": \"Sorry, I can only answer questions related to outdoor/camping gear and clothing. How can I assist you with that?\\\"\"}]\n"
     ]
    }
   ],
   "source": [
    "response = client.deployments.invoke(deployment_name, \"./request_file_qna_simple.json\")\n",
    "print(response)"
   ]
  }
 ],
 "metadata": {
  "kernelspec": {
   "display_name": "Python 3 (ipykernel)",
   "language": "python",
   "name": "python3"
  },
  "language_info": {
   "codemirror_mode": {
    "name": "ipython",
    "version": 3
   },
   "file_extension": ".py",
   "mimetype": "text/x-python",
   "name": "python",
   "nbconvert_exporter": "python",
   "pygments_lexer": "ipython3",
   "version": "3.10.13"
  }
 },
 "nbformat": 4,
 "nbformat_minor": 2
}
